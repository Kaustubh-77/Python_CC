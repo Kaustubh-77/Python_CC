{
  "nbformat": 4,
  "nbformat_minor": 0,
  "metadata": {
    "colab": {
      "provenance": [],
      "authorship_tag": "ABX9TyOvbBBmXJ1PgoAvGjYLH0a9"
    },
    "kernelspec": {
      "name": "python3",
      "display_name": "Python 3"
    },
    "language_info": {
      "name": "python"
    }
  },
  "cells": [
    {
      "cell_type": "markdown",
      "source": [
        "**Project Name**: ***Caesar Cipher***\n",
        "\n",
        "**Objective**: To understand basic cryptography concepts like encryption and decryption with the help of Python Programming Language.\n",
        "\n",
        "\n",
        "**Tools/softwares used**: Python programming Language"
      ],
      "metadata": {
        "id": "WGOaq1237bmC"
      }
    },
    {
      "cell_type": "code",
      "execution_count": 1,
      "metadata": {
        "colab": {
          "base_uri": "https://localhost:8080/"
        },
        "id": "MYXM-XkT7H9I",
        "outputId": "de4338e8-bd71-4380-f416-399c4b826f38"
      },
      "outputs": [
        {
          "output_type": "stream",
          "name": "stdout",
          "text": [
            "Welcome to the Caesar Cipher Encoder/Decoder\n",
            " Please type 'encode' to encrypt, type 'decode' to decrypt:\n",
            "encode\n",
            "Alright! now time to encode!\n",
            "Type your message:\n",
            "AI\n",
            "Great! now time to choose a shift value:\n",
            "Type the shift number:\n",
            "8\n",
            "The encoded text is  iq\n",
            "Do you want to rerun this program again? no\n",
            "Thank You, You can contact me anytime!\n"
          ]
        }
      ],
      "source": [
        "alphabet = [\n",
        "    'a', 'b', 'c', 'd', 'e', 'f', 'g', 'h', 'i', 'j', 'k', 'l', 'm', 'n', 'o',\n",
        "    'p', 'q', 'r', 's', 't', 'u', 'v', 'w', 'x', 'y', 'z', 'a', 'b', 'c', 'd',\n",
        "    'e', 'f', 'g', 'h', 'i', 'j', 'k', 'l', 'm', 'n', 'o', 'p', 'q', 'r', 's',\n",
        "    't', 'u', 'v', 'w', 'x', 'y', 'z'\n",
        "]\n",
        "\n",
        "end = True\n",
        "\n",
        "while end:\n",
        "    print(\"Welcome to the Caesar Cipher Encoder/Decoder\")\n",
        "    direction = input(\n",
        "        \" Please type 'encode' to encrypt, type 'decode' to decrypt:\\n\")\n",
        "    print(f\"Alright! now time to {direction}!\")\n",
        "    text = input(\"Type your message:\\n\").lower()\n",
        "    print(\"Great! now time to choose a shift value:\")\n",
        "    shift = int(input(\"Type the shift number:\\n\"))\n",
        "\n",
        "    def encrypt_text(text, shift):\n",
        "        cipher_text = \"\"\n",
        "        for i in range(0, len(text)):\n",
        "            cipher_text += alphabet[alphabet.index(text[i]) + shift]\n",
        "        print(\"The encoded text is \", cipher_text)\n",
        "\n",
        "    def decrypt_text(text, shift):\n",
        "        decrypted_text = \"\"\n",
        "        for i in range(0, len(text)):\n",
        "            decrypted_text += alphabet[alphabet.index(text[i]) - shift]\n",
        "        print(\"The decoded text is \", decrypted_text)\n",
        "\n",
        "    if direction == 'encode':\n",
        "        encrypt_text(text, shift)\n",
        "    else:\n",
        "        decrypt_text(text, shift)\n",
        "\n",
        "    again = input(\"Do you want to rerun this program again? \")\n",
        "    if again == 'yes':\n",
        "        end = True\n",
        "    else:\n",
        "        end = False\n",
        "        print(\"Thank You, You can contact me anytime!\")\n"
      ]
    }
  ]
}